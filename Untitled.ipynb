{
  "cells": [
    {
      "cell_type": "markdown",
      "metadata": {},
      "source": [
        "Task:\n",
        "\n",
        "2,958 x1+ 0,147 x2 + 0,354 x3+ 0,238 x4= 0,651\n",
        "0,127 x1+ 2,395 x2 + 0,256 x3+ 0,273 x4=0,898\n",
        "0,403 x1+ 0,184 x2 + 3,815 x3+ 0,416 x4= 0,595\n",
        "0,259 x1+ 0,361 x2 + 0,281 x3 + 3,736 x4= 0,389\n"
      ]
    },
    {
      "cell_type": "code",
      "execution_count": 9,
      "metadata": {
        "trusted": true
      },
      "outputs": [
        {
          "data": {
            "text/plain": [
              "array([0.18518174, 0.34730366, 0.11437157, 0.04912283])"
            ]
          },
          "execution_count": 9,
          "metadata": {},
          "output_type": "execute_result"
        }
      ],
      "source": [
        "import numpy as np\n",
        "a = np.array([[2.958, 0.147, 0.354, 0.238], [0.127, 2.395, 0.256, 0.273], [0.403, 0.184, 3.815, 0.41], [0.259, 0.361, 0.281, 3.736]])\n",
        "b = np.array([0.651, 0.898, 0.595, 0.389])\n",
        "x = np.linalg.solve(a, b)\n",
        "x"
      ]
    },
    {
      "cell_type": "code",
      "execution_count": null,
      "metadata": {},
      "outputs": [],
      "source": [
        "Once we have the answer, let's check if the solution is correct"
      ]
    },
    {
      "cell_type": "code",
      "execution_count": 11,
      "metadata": {
        "trusted": true
      },
      "outputs": [
        {
          "data": {
            "text/plain": [
              "True"
            ]
          },
          "execution_count": 11,
          "metadata": {},
          "output_type": "execute_result"
        }
      ],
      "source": [
        "np.allclose(np.dot(a, x), b)"
      ]
    },
    {
      "cell_type": "code",
      "execution_count": null,
      "metadata": {},
      "outputs": [],
      "source": []
    },
    {
      "cell_type": "code",
      "execution_count": null,
      "metadata": {},
      "outputs": [],
      "source": []
    }
  ],
  "metadata": {
    "kernelspec": {
      "display_name": "Pyolite",
      "language": "python",
      "name": "python"
    },
    "language_info": {
      "codemirror_mode": {
        "name": "python",
        "version": 3
      },
      "file_extension": ".py",
      "mimetype": "text/x-python",
      "name": "python",
      "nbconvert_exporter": "python",
      "pygments_lexer": "ipython3",
      "version": "3.8"
    }
  },
  "nbformat": 4,
  "nbformat_minor": 4
}
